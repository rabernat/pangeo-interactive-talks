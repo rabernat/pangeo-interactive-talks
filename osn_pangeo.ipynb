{
 "cells": [
  {
   "cell_type": "markdown",
   "metadata": {
    "slideshow": {
     "slide_type": "slide"
    }
   },
   "source": [
    "<h1 style=\"align: center;\"><img style=\"display: inline;\" src=\"https://raw.githubusercontent.com/pangeo-data/branding/master/logo/v_small_pangeo_logo.png\"> ❤️ OSN</h1>\n",
    "\n",
    "## Interactive Data-Proximate Computing in the Cloud \n",
    "\n",
    "\n",
    "Slides for a talk at the 2021-04-29 [Open Storage Network Seminar](https://www.openstoragenetwork.org/seminar-series/apr-29-2021-data-sharing-and-distributed-storages-role-in-research-next-steps/)\n",
    "\n",
    "[![Binder](https://mybinder.org/badge_logo.svg)](https://binder.pangeo.io/v2/gh/rabernat/pangeo-osn-demo/34e294b/?urlpath=git-pull?repo=https://github.com/rabernat/pangeo-osn-demo%26amp%3Bbranch=main%26amp%3Burlpath=tree/pangeo-osn-demo/osn_pangeo.ipynb)"
   ]
  },
  {
   "cell_type": "code",
   "execution_count": null,
   "metadata": {
    "slideshow": {
     "slide_type": "skip"
    }
   },
   "outputs": [],
   "source": [
    "# run before executing to fix the coordinates error\n",
    "# https://github.com/holoviz/hvplot/issues/603\n",
    "import warnings\n",
    "warnings.simplefilter(\"ignore\")\n",
    "import numpy as np\n",
    "import xarray as xr\n",
    "import hvplot.xarray\n",
    "from dask.diagnostics import ProgressBar\n",
    "url = \"https://ncsa.osn.xsede.org/Pangeo/pangeo-forge/swot_adac/eNATL60/Region01/surface_hourly/fma.zarr\"\n",
    "ds = xr.open_zarr(url, consolidated=True)\n",
    "ds = ds.assign_coords({'x': ('x', np.arange(len(ds.x))),\n",
    "                       'y': ('y', np.arange(len(ds.y)))})"
   ]
  },
  {
   "cell_type": "markdown",
   "metadata": {
    "slideshow": {
     "slide_type": "slide"
    }
   },
   "source": [
    "Most of what I am going to say is here: \n",
    "\n",
    "R. P. Abernathey et al., \"Cloud-Native Repositories for Big Scientific Data,\" in Computing in Science & Engineering, vol. 23, no. 2, pp. 26-35, 1 March-April 2021. **https://doi.org/10.1109/MCSE.2021.3059437**\n",
    "\n",
    "<img width=\"60%\" src=\"https://raw.githubusercontent.com/rabernat/pangeo-osn-demo/main/images/ieee_paper_header.png\">"
   ]
  },
  {
   "cell_type": "markdown",
   "metadata": {
    "slideshow": {
     "slide_type": "slide"
    }
   },
   "source": [
    "<img src=\"https://raw.githubusercontent.com/pangeo-data/branding/master/logo/v_small_pangeo_logo.png\">\n",
    "\n",
    "## <http://pangeo.io>\n",
    "\n",
    "<img class=\"float-right\" style=\"float: right;\" width=\"50%\" src=\"https://raw.githubusercontent.com/rabernat/pangeo-osn-demo/main/images/pangeo_logos.png\">\n",
    "\n",
    "- Grass-roots collaboration between scientists, software developers around open-source tools for\n",
    "  - big data processing\n",
    "  - visualization\n",
    "  - machine learning\n",
    "- Foundational support from NSF EarthCube\n",
    "- International partners, industry connections"
   ]
  },
  {
   "cell_type": "markdown",
   "metadata": {
    "slideshow": {
     "slide_type": "slide"
    }
   },
   "source": [
    "<img style=\"float: right;\" src=\"https://ndownloader.figshare.com/files/22017009\">\n",
    "\n",
    "# Data Access Modes in Science\n",
    "\n",
    "\n",
    "- **Download model** is by far the most prevalent:\n",
    "  _download and organize data on local computers in order to make it ready for computing_\n",
    "  - Dependency of analysis codes on local filesystem paths is a barrier to collaboration / reproducibility\n",
    "  - Inefficient / duplicative (same datasets are downloaded and stored repeatedly)\n",
    "  - Can’t scale to modern data needs\n",
    "  - Limits inclusion and knowledge transfer\n",
    "- **Cloud-native model**: bring compute to the data"
   ]
  },
  {
   "cell_type": "markdown",
   "metadata": {
    "slideshow": {
     "slide_type": "slide"
    }
   },
   "source": [
    "# Pangeo Infrastructure\n",
    "\n",
    "<img src=\"https://raw.githubusercontent.com/rabernat/pangeo-osn-demo/main/images/pangeo_cloud_infrastructure.png\">\n"
   ]
  },
  {
   "cell_type": "markdown",
   "metadata": {
    "slideshow": {
     "slide_type": "subslide"
    }
   },
   "source": [
    "<img style=\"float: right; border: 1px solid gray;\" width=\"50%\" src=\"https://raw.githubusercontent.com/rabernat/pangeo-osn-demo/main/images/google_cloud_cmip6_blog_screenshot.png\">\n",
    "\n",
    "# Pangeo / ESGF CMIP6 Public Dataset\n",
    "\n",
    "- https://cloud.google.com/blog/products/data-analytics/new-climate-model-data-now-google-public-datasets\n",
    "- https://medium.com/pangeo/cmip6-in-the-cloud-five-ways-96b177abe396\n",
    "- https://pangeo-data.github.io/pangeo-cmip6-cloud/\n",
    "\n",
    "1 PB and growing.\n",
    "\n"
   ]
  },
  {
   "cell_type": "markdown",
   "metadata": {
    "slideshow": {
     "slide_type": "slide"
    }
   },
   "source": [
    "# The Pangeo Software Stack\n",
    "\n",
    "<img src=\"https://raw.githubusercontent.com/rabernat/pangeo-osn-demo/main/images/pangeo_cloud_stack.png\">\n"
   ]
  },
  {
   "cell_type": "markdown",
   "metadata": {
    "slideshow": {
     "slide_type": "subslide"
    }
   },
   "source": [
    "# Data Model and Storage: Xarray + Zarr\n",
    "\n",
    "Example dataset from the [NASA / CNES SWOT Adopt-A-Crossover field campaign](https://www.clivar.org/news/swot-%E2%80%98adopt-crossover%E2%80%99-consortium-has-been-endorsed-clivar)"
   ]
  },
  {
   "cell_type": "code",
   "execution_count": null,
   "metadata": {
    "slideshow": {
     "slide_type": "-"
    }
   },
   "outputs": [],
   "source": [
    "import xarray as xr\n",
    "url = \"https://ncsa.osn.xsede.org/Pangeo/pangeo-forge/swot_adac/eNATL60/Region01/surface_hourly/fma.zarr\"\n",
    "xr.open_zarr(url, consolidated=True)"
   ]
  },
  {
   "cell_type": "markdown",
   "metadata": {
    "slideshow": {
     "slide_type": "-"
    }
   },
   "source": [
    "<br /><br /><br /><br /><br /><br /><br /><br /><br /><br /><br /><br />"
   ]
  },
  {
   "cell_type": "markdown",
   "metadata": {
    "slideshow": {
     "slide_type": "subslide"
    }
   },
   "source": [
    "<h1>Interactive Visualization:\n",
    "    <img style=\"display: inline;\" width=\"15%\" src=\"https://holoviews.org/_static/logo_horizontal.png\">\n",
    "</h1>"
   ]
  },
  {
   "cell_type": "code",
   "execution_count": null,
   "metadata": {
    "slideshow": {
     "slide_type": "-"
    }
   },
   "outputs": [],
   "source": [
    "ds.sosstsst.hvplot.image('x', 'y', clim=(5, 25), rasterize=True, dynamic=True, width=800, height=450,\n",
    "                         widget_type='scrubber', widget_location='bottom', cmap='magma')"
   ]
  },
  {
   "cell_type": "markdown",
   "metadata": {
    "slideshow": {
     "slide_type": "-"
    }
   },
   "source": [
    "<br /><br /><br /><br /><br /><br /><br /><br /><br /><br /><br /><br />"
   ]
  },
  {
   "cell_type": "markdown",
   "metadata": {
    "slideshow": {
     "slide_type": "subslide"
    }
   },
   "source": [
    "<h1>Distributed Computing:\n",
    "    <img style=\"display: inline;\" width=\"15%\" src=\"https://docs.dask.org/en/latest/_images/dask_horizontal.svg\">\n",
    "</h1>"
   ]
  },
  {
   "cell_type": "code",
   "execution_count": null,
   "metadata": {
    "slideshow": {
     "slide_type": "-"
    }
   },
   "outputs": [],
   "source": [
    "mean_sst = ds.sosstsst.mean(dim=\"time_counter\")\n",
    "mean_sst.data.visualize(optimize_graph=True, color=\"order\",\n",
    "                 cmap=\"viridis\", node_attr={\"penwidth\": \"2\"})"
   ]
  },
  {
   "cell_type": "code",
   "execution_count": null,
   "metadata": {
    "slideshow": {
     "slide_type": "subslide"
    }
   },
   "outputs": [],
   "source": [
    "from dask.diagnostics import ProgressBar\n",
    "with ProgressBar():\n",
    "    mean_sst.compute()"
   ]
  },
  {
   "cell_type": "markdown",
   "metadata": {
    "slideshow": {
     "slide_type": "-"
    }
   },
   "source": [
    "<br /><br /><br /><br /><br /><br /><br /><br /><br /><br /><br /><br />"
   ]
  },
  {
   "cell_type": "markdown",
   "metadata": {
    "slideshow": {
     "slide_type": "subslide"
    }
   },
   "source": [
    "<img width=\"50%\" style=\"float: right;\" src=\"https://ieeexplore.ieee.org/mediastore_new/IEEE/content/media/5992/9387473/9354557/abern3-3059437-large.gif\">\n",
    "\n",
    "# Distributed Read Performance\n",
    "\n",
    "- Compared OSN throughput to Google Cloud storage in _US-CENTRAL1_ \n",
    "- For modest levels of concurrent reads (< 50), **OSN was faster**\n",
    "- Read throughput of **5 GB/s**\n",
    "- Nearly 2 orders of magnitude faster than legacy data portal"
   ]
  },
  {
   "cell_type": "markdown",
   "metadata": {
    "slideshow": {
     "slide_type": "slide"
    }
   },
   "source": [
    "# Don't Be Stupid: Use the Commercial Cloud 👍\n",
    "\n",
    "### (Except for data storage)\n",
    "\n",
    "- Commercial cloud object storage (AWS S3, GCS, etc.) is ~\\$250K/PB year \n",
    "  - Public dataset programs can help, but not all scientifically useful data qualify\n",
    "  - Scientists have an existential fear of losing control of their data to the cloud companies\n",
    "- Wasabi is \\$50K / PB year\n",
    "  - ..but comes with heavy egress limits\n",
    "- OSN is \\$30K / PB year (assuming 5-year lifespan) with comparable in-cloud performance\n",
    "  "
   ]
  },
  {
   "cell_type": "markdown",
   "metadata": {
    "slideshow": {
     "slide_type": "subslide"
    }
   },
   "source": [
    "# Challenges / Questions for OSN\n",
    "\n",
    "- **Egress** - Hybrid approach will require high-volume of traffic btw OSN pods and commercial cloud. _We must find a way to bypass egress costs._\n",
    "- **Governance** - Who owns OSN pods? Who decides about storage allocations? \n",
    "- **Software Stack** - How can scientists transition from file-based to object-based data access? Maybe Pangeo stack can be helpful here..."
   ]
  }
 ],
 "metadata": {
  "celltoolbar": "Slideshow",
  "kernelspec": {
   "display_name": "Python 3",
   "language": "python",
   "name": "python3"
  },
  "language_info": {
   "codemirror_mode": {
    "name": "ipython",
    "version": 3
   },
   "file_extension": ".py",
   "mimetype": "text/x-python",
   "name": "python",
   "nbconvert_exporter": "python",
   "pygments_lexer": "ipython3",
   "version": "3.8.6"
  },
  "rise": {
   "theme": "simple"
  }
 },
 "nbformat": 4,
 "nbformat_minor": 5
}
