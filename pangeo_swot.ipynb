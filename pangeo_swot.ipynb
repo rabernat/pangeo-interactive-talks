{
 "cells": [
  {
   "cell_type": "markdown",
   "id": "feb14c2e",
   "metadata": {
    "slideshow": {
     "slide_type": "slide"
    }
   },
   "source": [
    "<h1 style=\"align: center;\"><img style=\"display: inline;\" src=\"https://raw.githubusercontent.com/pangeo-data/branding/master/logo/v_small_pangeo_logo.png\"> ❤️ SWOT</h1>\n",
    "\n",
    "## Data Intensive Oceanography with Pangeo and Applications to the SWOT Mission\n",
    "\n",
    "**<https://github.com/rabernat/pangeo-osn-demo>**\n",
    "\n",
    "[![Binder](https://mybinder.org/badge_logo.svg)](https://binder.pangeo.io/v2/gh/rabernat/pangeo-osn-demo/34e294b/?urlpath=git-pull?repo=https://github.com/rabernat/pangeo-osn-demo%26amp%3Bbranch=main%26amp%3Burlpath=tree/pangeo-osn-demo/pangeo_swot.ipynb)\n",
    "\n",
    "Funding:\n",
    "- NASA SWOT Science Team\n",
    "- NSF Award ICER-2026932\n",
    "\n"
   ]
  },
  {
   "cell_type": "code",
   "execution_count": null,
   "id": "27ddc344",
   "metadata": {
    "slideshow": {
     "slide_type": "skip"
    }
   },
   "outputs": [],
   "source": [
    "# run before executing to fix the coordinates error\n",
    "# https://github.com/holoviz/hvplot/issues/603\n",
    "import warnings\n",
    "warnings.simplefilter(\"ignore\")\n",
    "import numpy as np\n",
    "import xarray as xr\n",
    "import hvplot.xarray\n",
    "from dask.diagnostics import ProgressBar\n",
    "from IPython.display import IFrame\n",
    "from xmitgcm.llcreader.llcmodel import faces_dataset_to_latlon\n",
    "import xarray as xr\n",
    "import intake"
   ]
  },
  {
   "cell_type": "code",
   "execution_count": null,
   "id": "70a7623c",
   "metadata": {
    "slideshow": {
     "slide_type": "skip"
    }
   },
   "outputs": [],
   "source": [
    "catalog = intake.open_catalog(\"https://raw.githubusercontent.com/pangeo-data/pangeo-datastore/master/intake-catalogs/ocean/llc4320.yaml\")\n",
    "url = \"https://ncsa.osn.xsede.org/Pangeo/pangeo-forge/swot_adac/eNATL60/Region01/surface_hourly/fma.zarr\"\n",
    "ds_enatl = xr.open_zarr(url, consolidated=True)\n",
    "ds_enatl = ds_enatl.assign_coords({'x': ('x', np.arange(len(ds_enatl.x))),\n",
    "                       'y': ('y', np.arange(len(ds_enatl.y)))})"
   ]
  },
  {
   "cell_type": "markdown",
   "id": "7ad4d4d9",
   "metadata": {
    "slideshow": {
     "slide_type": "slide"
    }
   },
   "source": [
    "Much of what I am going to say is here: \n",
    "\n",
    "R. P. Abernathey et al., \"Cloud-Native Repositories for Big Scientific Data,\" in Computing in Science & Engineering, vol. 23, no. 2, pp. 26-35, 1 March-April 2021. **<https://doi.org/10.1109/MCSE.2021.3059437>**\n",
    "\n",
    "<img width=\"60%\" src=\"https://raw.githubusercontent.com/rabernat/pangeo-osn-demo/main/images/ieee_paper_header.png\">"
   ]
  },
  {
   "cell_type": "markdown",
   "id": "37dfb55b",
   "metadata": {
    "slideshow": {
     "slide_type": "subslide"
    }
   },
   "source": [
    "And here:\n",
    "\n",
    "Gentemann, C. L., Holdgraf, C., Abernathey, R., Crichton, D., Colliander, J., Kearns, E. J., et al. (2021). _Science storms the cloud_. AGU Advances, 2, e2020AV000354. **<https://doi.org/10.1029/2020AV000354>**\n",
    "\n",
    "<img width=\"60%\" src=\"https://agupubs.onlinelibrary.wiley.com/cms/asset/af40765f-2449-4e89-9cad-327799aba1cb/aga220084-fig-0001-m.jpg\">"
   ]
  },
  {
   "cell_type": "markdown",
   "id": "d102b880",
   "metadata": {
    "slideshow": {
     "slide_type": "slide"
    }
   },
   "source": [
    "# Outline\n",
    "\n",
    "1. Motivation: SWOT Big Data\n",
    "2. Pangeo in General\n",
    "   - Community\n",
    "   - Software\n",
    "   - Infrastructure\n",
    "3. Pangeo for SWOT\n",
    "   - Cloud-based data and computing\n",
    "   - Adopt-a-Crossover\n",
    "   - Computational tools"
   ]
  },
  {
   "cell_type": "markdown",
   "id": "220c5adc",
   "metadata": {
    "slideshow": {
     "slide_type": "slide"
    }
   },
   "source": [
    "# MITgcm LLC4320: My Gateway to Big Data\n",
    "\n",
    "<http://maps.actualscience.net/MITgcm_llc_maps/llc_4320/>\n",
    "\n",
    "<img style=\"float: right;\" src=\"https://media.giphy.com/media/swtiK9jRfE0zS/giphy.gif\">\n",
    "\n",
    "- Dataset came out in 2014: I immediately decided this was going to be the future of oceanography (or at least my own career!)\n",
    "- So much potential for scientific discovery in global-scale, super-high-res models\n",
    "- Problem: it was so much easier to _run the model_ than it is to _analyze the data_\n",
    "- The scale of the data (> 1 PB) brought out the gaps in our infrastructure and overall approach to data-intensive oceanography"
   ]
  },
  {
   "cell_type": "markdown",
   "id": "fb82aae0",
   "metadata": {
    "slideshow": {
     "slide_type": "subslide"
    }
   },
   "source": [
    "# Nasa Earth Observation Data\n",
    "The same challenge applies to remote sensing in general!\n",
    "\n",
    "<img width=\"50%\" src=\"https://cdn.earthdata.nasa.gov/conduit/upload/12979/EOSDISDataSize.jpg\">\n",
    "\n",
    "<https://earthdata.nasa.gov/eosdis/cloud-evolution>\n",
    "\n",
    "Acceleration driven mostly by SWOT + NISAR."
   ]
  },
  {
   "cell_type": "markdown",
   "id": "5ca99083",
   "metadata": {
    "slideshow": {
     "slide_type": "subslide"
    }
   },
   "source": [
    "# High-Energy Physics, Astronomy, Genomics, Bioimaging, ...\n",
    "\n",
    "Actually, _most scientific fields have some version of this problem!_"
   ]
  },
  {
   "cell_type": "code",
   "execution_count": null,
   "id": "2cf1e12b",
   "metadata": {},
   "outputs": [],
   "source": [
    "IFrame(\"https://www.youtube.com/embed/aKlO35ZMfLQ?start=4\", width=900, height=550)"
   ]
  },
  {
   "cell_type": "markdown",
   "id": "bd2ac237",
   "metadata": {
    "slideshow": {
     "slide_type": "slide"
    }
   },
   "source": [
    "<img src=\"https://raw.githubusercontent.com/pangeo-data/branding/master/logo/v_small_pangeo_logo.png\">\n",
    "\n",
    "## <http://pangeo.io>\n",
    "\n",
    "<img class=\"float-right\" style=\"float: right;\" width=\"50%\" src=\"https://raw.githubusercontent.com/rabernat/pangeo-osn-demo/main/images/pangeo_logos.png\">\n",
    "\n",
    "- Grass-roots collaboration between environmental scientists, software developers around open-source tools for\n",
    "  - big data processing\n",
    "  - visualization\n",
    "  - machine learning\n",
    "- International partners, industry connections\n",
    "- Funding support from NSF EarthCube, NASA Access, Gordon & Betty Moore Foundation\n",
    "- _New: program support from Consortium for Ocean Leadershiop_ 🎉 "
   ]
  },
  {
   "cell_type": "markdown",
   "id": "082edf10",
   "metadata": {
    "slideshow": {
     "slide_type": "slide"
    }
   },
   "source": [
    "# Pangeo Community\n",
    "\n",
    "<img class=\"float-right\" alt=\"photo credit Alice Marzocchi via https://twitter.com/allygully/status/1229551346820493312\" style=\"float: right;\" width=\"40%\" src=\"https://raw.githubusercontent.com/rabernat/pangeo-osn-demo/main/images/pangeo_tutorial_OSM20_Marzocchi.png\">\n",
    "\n",
    "\n",
    "\n",
    "- Founded in 2017\n",
    "- Specific technologies come and go: the foundation of Pangeo is a community of scientists / developers committed to improving tools and infrastructure to drive scientific progress\n",
    "- Weekly [seminar series](https://pangeo.io/pangeo-showcase.html)\n",
    "- [Discourse Forum](https://discourse.pangeo.io/)\n",
    "- GitHub Organizations: [Pangeo](https://github.com/pangeo-data/), [Pangeo Gallery](https://github.com/pangeo-gallery/), [Pangeo Forge](https://github.com/pangeo-forge/)\n",
    "- **No slack!** 😆 Slack is not open, searchable, discoverable. Knoweldge is shared among an \"in crowd.\" We prefer open communication over back channels.\n",
    "- Strive for diversity and inclusivity ([code of conduct](https://github.com/pangeo-data/governance/blob/master/conduct/code_of_conduct.md))\n"
   ]
  },
  {
   "cell_type": "markdown",
   "id": "f03cf1d0",
   "metadata": {
    "slideshow": {
     "slide_type": "subslide"
    }
   },
   "source": [
    "# [Pangeo Showcase](https://pangeo.io/pangeo-showcase.html)\n",
    "\n",
    "### Upcoming\n",
    "\n",
    "- 2021-05-19 12pm EDT - **Chelle Gentemann, Farallon Institute** - Sea Surface Temperature Datasets on the Cloud\n",
    "\n",
    "\n",
    "### Past\n",
    "\n",
    "- 2021-04-07 12PM EDT - **Seth McGinnis, NCAR**  [Parallel Analysis Using Pangeo vs the Command-Line](https://discourse.pangeo.io/t/april-7-2021-parallel-analysis-using-pangeo-vs-the-command-line/1373)\n",
    "- 2021-04-14 4pm EDT - **Lais Carvalho, QuanSight** [The New Qhub 0.3: An easy way to deploy/maintain JupyterHub with Dask Gateway](https://discourse.pangeo.io/t/april-14-2021-the-new-qhub-0-3-an-easy-way-to-deploy-maintain-jupyterhub-with-dask-gateway/1399)\n",
    "- 2021-04-21 12pm EDT - **Benoît Bovy, GFZ-Potsdam** [Build, customize and run models with Xarray-Simlab](https://discourse.pangeo.io/t/april-21-2021-build-customize-and-run-models-with-xarray-simlab/1417) \n",
    "- 2021-04-28 4pm EDT - **David Huard, Ouranos** [FAIR Climate Services using the Xarray ecosystem and OGC Standards](https://discourse.pangeo.io/t/april-28-2021-fair-climate-services-using-the-xarray-ecosystem-and-ogc-standards/1431)\n",
    "- 2021-05-05 12pm EDT - **Philip Austin, University of British Columbia**\n",
    "[OCESE: Open Source Computing for Earth Science Education](https://discourse.pangeo.io/t/may-5-2021-ocese-open-source-computing-for-earth-science-education/1443) \n",
    "- 2021-05-12 4pm EDT **Josef Kellndorfer, Earth Big Data** [The new era of SAR time series: Tackling big EO data analysis and visualization with Pangeo tools](https://discourse.pangeo.io/t/may-12-2021-the-new-era-of-sar-time-series-tackling-big-eo-data-analysis-and-visualization-with-pangeo-tools/1475)"
   ]
  },
  {
   "cell_type": "markdown",
   "id": "17e03a3c",
   "metadata": {
    "slideshow": {
     "slide_type": "slide"
    }
   },
   "source": [
    "# Pangeo Software\n",
    "\n",
    "**There is no software package called \"Pangeo\"!**\n",
    "Pangeo is an _integration project_ within the Scientific Python software ecosystem.\n",
    "\n",
    "<img width=\"80%\" src=\"https://raw.githubusercontent.com/rabernat/pangeo-osn-demo/main/images/pangeo_software_ecosystem.png\">\n",
    "\n",
    "_Inspiration: Stephan Hoyer, Jake Vanderplas (SciPy 2015)_\n"
   ]
  },
  {
   "cell_type": "markdown",
   "id": "25d1993f",
   "metadata": {
    "slideshow": {
     "slide_type": "subslide"
    }
   },
   "source": [
    "# Our Software Philosphy\n",
    "\n",
    "- Build on existing, sustainable, community-driven projects (e.g. Jupyter, Xarray)\n",
    "- Support Earth-System-Science use cases through \"upstream\" contributions\n",
    "- Start new software projects reluctantly\n",
    "- Make packages small, modular, narrowly scoped, interoperable"
   ]
  },
  {
   "cell_type": "markdown",
   "id": "708e79b7",
   "metadata": {
    "slideshow": {
     "slide_type": "subslide"
    }
   },
   "source": [
    "# Jupyter\n",
    "\n",
    "### https://jupyter.org/\n",
    "\n",
    "<img width=\"80%\" src=\"https://raw.githubusercontent.com/rabernat/pangeo-osn-demo/main/images/jupyter_stuff.png\">"
   ]
  },
  {
   "cell_type": "markdown",
   "id": "6fba2f55",
   "metadata": {
    "slideshow": {
     "slide_type": "subslide"
    }
   },
   "source": [
    "# Xarray\n",
    "\n",
    "### http://xarray.pydata.org/\n",
    "\n",
    "High-level analysis library for netCDF-style data.\n",
    "\n",
    "<img width=\"80%\" src=\"http://xarray.pydata.org/en/stable/_images/dataset-diagram.png\" />"
   ]
  },
  {
   "cell_type": "markdown",
   "id": "0aee5418",
   "metadata": {
    "slideshow": {
     "slide_type": "slide"
    }
   },
   "source": [
    "<img style=\"float: right;\" src=\"https://ndownloader.figshare.com/files/22017009\">\n",
    "\n",
    "# Data Access Modes in Science\n",
    "\n",
    "\n",
    "- **Download model** is by far the most prevalent:\n",
    "  _download and organize data on local computers in order to make it ready for computing_\n",
    "  - Dependency of analysis codes on local filesystem paths is a barrier to collaboration / reproducibility\n",
    "  - Inefficient / duplicative (same datasets are downloaded and stored repeatedly)\n",
    "  - Can’t scale to modern data needs\n",
    "  - Limits inclusion and knowledge transfer\n",
    "- **Cloud-native model**: bring compute to the data"
   ]
  },
  {
   "cell_type": "markdown",
   "id": "b4a61bbe",
   "metadata": {
    "slideshow": {
     "slide_type": "subslide"
    }
   },
   "source": [
    "# The Pangeo Cloud Software Stack\n",
    "\n",
    "<img src=\"https://raw.githubusercontent.com/rabernat/pangeo-osn-demo/main/images/pangeo_cloud_stack.png\">\n"
   ]
  },
  {
   "cell_type": "markdown",
   "id": "cb647910",
   "metadata": {
    "slideshow": {
     "slide_type": "subslide"
    }
   },
   "source": [
    "# Pangeo Infrastructure\n",
    "\n",
    "<img src=\"https://raw.githubusercontent.com/rabernat/pangeo-osn-demo/main/images/pangeo_cloud_infrastructure.png\">\n"
   ]
  },
  {
   "cell_type": "markdown",
   "id": "52858dcb",
   "metadata": {
    "slideshow": {
     "slide_type": "subslide"
    }
   },
   "source": [
    "# Pangeo Cloud\n",
    "\n",
    "### https://pangeo.io/cloud.html\n",
    "\n",
    "- Cloud-based Jupyterhub running in Google Cloud Platform and Amazon Web Services\n",
    "- One-click access to medium-sized virtual-machines pre-loaded with the full Pangeo software stack\n",
    "- Ability to launch Dask clusters on-demand for distributed cloud computing\n",
    "- High-bandwidth access to cloud-optimized, analysis-ready data\n",
    "- _Anyone can sign up!_ (But we can't really provide much support right now.)\n"
   ]
  },
  {
   "cell_type": "markdown",
   "id": "37276c3f",
   "metadata": {
    "slideshow": {
     "slide_type": "subslide"
    }
   },
   "source": [
    "# Cloud Data\n",
    "\n",
    "**Any data available over the internet can be accessed from Pangeo!**\n",
    "There is no \"private\" data catalog.\n",
    "\n",
    "However, things work best with Analysis-Ready Cloud-Optimized (ARCO) data stored in data-proximate cloud object storage. Currently have data in three main places:\n",
    "\n",
    "- Public Dataset Programs (e.g. CMIP6 on GCP / AWS)\n",
    "- Pangeo-sponsored cloud storage (e.g. LLC4320 on GCP) - <https://catalog.pangeo.io/>\n",
    "- [Open Storage Network](https://www.openstoragenetwork.org/) - New NSF-sponsored storage service."
   ]
  },
  {
   "cell_type": "markdown",
   "id": "0dafc366",
   "metadata": {
    "slideshow": {
     "slide_type": "subslide"
    }
   },
   "source": [
    "<img style=\"float: right; border: 1px solid gray;\" width=\"50%\" src=\"https://raw.githubusercontent.com/rabernat/pangeo-osn-demo/main/images/google_cloud_cmip6_blog_screenshot.png\">\n",
    "\n",
    "# Pangeo / ESGF CMIP6 Public Dataset\n",
    "\n",
    "- https://cloud.google.com/blog/products/data-analytics/new-climate-model-data-now-google-public-datasets\n",
    "- https://medium.com/pangeo/cmip6-in-the-cloud-five-ways-96b177abe396\n",
    "- https://pangeo-data.github.io/pangeo-cmip6-cloud/\n",
    "\n",
    "1 PB and growing.\n",
    "\n"
   ]
  },
  {
   "cell_type": "markdown",
   "id": "3160b19d",
   "metadata": {
    "slideshow": {
     "slide_type": "slide"
    }
   },
   "source": [
    "# Data and Computing for the SWOT Science Team\n",
    "\n",
    "Pangeo is working to support the SWOT mission in several different ways.\n",
    "\n",
    "- High-performance cloud-style access to global-scale LLC simulations ([Poseidon Project](https://poseidon.idies.jhu.edu/)). Data available via\n",
    "  - [ECCO Data Portal](https://medium.com/pangeo/petabytes-of-ocean-data-part-1-nasa-ecco-data-portal-81e3c5e077be)\n",
    "  - [Google Cloud Storage](https://catalog.pangeo.io/browse/master/ocean/LLC4320/) (Surface only)\n",
    "  - Open Storage Network (coming soon)\n",
    "- Multi-Model Regional data for Adopt-a-Crossover\n",
    "- Computational tools"
   ]
  },
  {
   "cell_type": "markdown",
   "id": "86efa499",
   "metadata": {
    "slideshow": {
     "slide_type": "subslide"
    }
   },
   "source": [
    "# Global LLC4320 Data in Google Cloud\n",
    "\n",
    "Xarray + Zarr"
   ]
  },
  {
   "cell_type": "code",
   "execution_count": null,
   "id": "ad05fa71",
   "metadata": {},
   "outputs": [],
   "source": [
    "ds_sst  = faces_dataset_to_latlon(catalog[\"LLC4320_SST\"].to_dask(), metric_vector_pairs=[])\n",
    "ds_sst"
   ]
  },
  {
   "cell_type": "markdown",
   "id": "3534c3d9",
   "metadata": {},
   "source": [
    "<br /><br /><br /><br /><br /><br /><br /><br /><br /><br /><br />"
   ]
  },
  {
   "cell_type": "code",
   "execution_count": null,
   "id": "1e64e245",
   "metadata": {
    "slideshow": {
     "slide_type": "skip"
    }
   },
   "outputs": [],
   "source": [
    "options = dict(rasterize=True, dynamic=True, width=800, height=450,\n",
    "                    widget_type='scrubber', widget_location='bottom', cmap='RdBu_r')"
   ]
  },
  {
   "cell_type": "markdown",
   "id": "b777ffab",
   "metadata": {
    "slideshow": {
     "slide_type": "subslide"
    }
   },
   "source": [
    "<h1>Interactive Visualization:\n",
    "    <img style=\"display: inline;\" width=\"15%\" src=\"https://holoviews.org/_static/logo_horizontal.png\">\n",
    "</h1>"
   ]
  },
  {
   "cell_type": "code",
   "execution_count": null,
   "id": "be4f45be",
   "metadata": {
    "slideshow": {
     "slide_type": "subslide"
    }
   },
   "outputs": [],
   "source": [
    "ds_sst.SST.hvplot.image('i', 'j', **options)"
   ]
  },
  {
   "cell_type": "markdown",
   "id": "29a327d4",
   "metadata": {
    "slideshow": {
     "slide_type": "subslide"
    }
   },
   "source": [
    "# [NASA / CNES SWOT Adopt-A-Crossover field campaign](https://www.clivar.org/news/swot-%E2%80%98adopt-crossover%E2%80%99-consortium-has-been-endorsed-clivar)\n",
    "\n",
    "<https://github.com/roxyboy/SWOT-AdAC-ocean-model-intercomparison>\n",
    "\n",
    "<img style=\"float: right;\" width=\"50%\" src=\"https://github.com/roxyboy/SWOT-AdAC-ocean-model-intercomparison/raw/master/img/SWOT-Xover-paths.png\">\n",
    "\n",
    "Led by Julien LeSommer and Takaya Uchida.\n",
    "\n",
    "- eNATL60\tNorth Atlantic\t1/60\tNEMO\tMEOM\n",
    "- MEDWEST60\tMediterranean\t1/60 (ensemble)\tNEMO\tMEOM\n",
    "- GIGATL\tAtlantic\t1 km\tCROCO\tLOPS\n",
    "- HYCOM50\tNorth Atlantic\t1/50\tHYCOM\tCOAPS\n",
    "- llc4320\tGlobal\t1/48\tMITgcm\tJPL\n",
    "- lNALT60\tAgulhas region\t1/60\tNEMO\tGEOMAR\n",
    "- FESOM\tNorth Atlantic\t1 km\tFESOM\tAWI\n",
    "- SM-telescope\tNorth Atlantic\t600 m\tICON-O\tMPI-M\n",
    "\n",
    "Data stored in OSN."
   ]
  },
  {
   "cell_type": "code",
   "execution_count": null,
   "id": "2e47e648",
   "metadata": {
    "slideshow": {
     "slide_type": "-"
    }
   },
   "outputs": [],
   "source": [
    "url = \"https://ncsa.osn.xsede.org/Pangeo/pangeo-forge/swot_adac/eNATL60/Region01/surface_hourly/fma.zarr\"\n",
    "xr.open_zarr(url, consolidated=True)"
   ]
  },
  {
   "cell_type": "markdown",
   "id": "a20e0698",
   "metadata": {
    "slideshow": {
     "slide_type": "-"
    }
   },
   "source": [
    "<br /><br /><br /><br /><br /><br /><br /><br /><br /><br /><br /><br />"
   ]
  },
  {
   "cell_type": "code",
   "execution_count": null,
   "id": "1ffad2f9",
   "metadata": {
    "slideshow": {
     "slide_type": "subslide"
    }
   },
   "outputs": [],
   "source": [
    "ds.sosstsst.hvplot.image('x', 'y', clim=(5, 25), rasterize=True, dynamic=True, width=800, height=450,\n",
    "                         widget_type='scrubber', widget_location='bottom', cmap='magma')"
   ]
  },
  {
   "cell_type": "markdown",
   "id": "296d98c2",
   "metadata": {
    "slideshow": {
     "slide_type": "-"
    }
   },
   "source": [
    "<br /><br /><br /><br /><br /><br /><br /><br /><br /><br /><br /><br />"
   ]
  },
  {
   "cell_type": "markdown",
   "id": "6b114294",
   "metadata": {
    "slideshow": {
     "slide_type": "subslide"
    }
   },
   "source": [
    "<h1>Distributed Computing:\n",
    "    <img style=\"display: inline;\" width=\"15%\" src=\"https://docs.dask.org/en/latest/_images/dask_horizontal.svg\">\n",
    "</h1>"
   ]
  },
  {
   "cell_type": "code",
   "execution_count": null,
   "id": "0ecd03da",
   "metadata": {
    "slideshow": {
     "slide_type": "-"
    }
   },
   "outputs": [],
   "source": [
    "mean_sst = ds.sosstsst.mean(dim=\"time_counter\")\n",
    "mean_sst.data.visualize(optimize_graph=True, color=\"order\",\n",
    "                 cmap=\"viridis\", node_attr={\"penwidth\": \"2\"})"
   ]
  },
  {
   "cell_type": "markdown",
   "id": "2e58904a",
   "metadata": {
    "slideshow": {
     "slide_type": "-"
    }
   },
   "source": [
    "<br /><br /><br /><br /><br /><br /><br /><br /><br /><br /><br /><br />"
   ]
  },
  {
   "cell_type": "code",
   "execution_count": null,
   "id": "bed979ac",
   "metadata": {
    "slideshow": {
     "slide_type": "subslide"
    }
   },
   "outputs": [],
   "source": [
    "from dask.diagnostics import ProgressBar\n",
    "with ProgressBar():\n",
    "    mean_sst.compute()"
   ]
  },
  {
   "cell_type": "markdown",
   "id": "0c04fd37",
   "metadata": {
    "slideshow": {
     "slide_type": "subslide"
    }
   },
   "source": [
    "<img width=\"50%\" style=\"float: right;\" src=\"https://ieeexplore.ieee.org/mediastore_new/IEEE/content/media/5992/9387473/9354557/abern3-3059437-large.gif\">\n",
    "\n",
    "# Distributed Read Performance\n",
    "\n",
    "- Compared OSN throughput to Google Cloud storage in _US-CENTRAL1_ \n",
    "- For modest levels of concurrent reads (< 50), **OSN was faster**\n",
    "- Read throughput of **5 GB/s**\n",
    "- Nearly 2 orders of magnitude faster than legacy data portal"
   ]
  },
  {
   "cell_type": "markdown",
   "id": "d010c5f2",
   "metadata": {
    "slideshow": {
     "slide_type": "subslide"
    }
   },
   "source": [
    "# Computational Tools\n",
    "\n",
    "- [Xmitgcm](https://xmitgcm.readthedocs.io/) - open MITgcm mds files with Xarray\n",
    "- [Xgcm](http://xgcm.readthedocs.org/) - finite volume grid analysis for Xarray datasets\n",
    "- [Xrft](https://xrft.readthedocs.io/en/latest/) - multidimensional spectral analysis for Xarray datasets\n",
    "- [Xhistogram](https://xhistogram.readthedocs.io/) - fast, fancy binning for Xarray datasets"
   ]
  },
  {
   "cell_type": "markdown",
   "id": "7490e187",
   "metadata": {
    "slideshow": {
     "slide_type": "subslide"
    }
   },
   "source": [
    "# Pangeo Forge\n",
    "\n",
    "[Pangeo Forge](https://github.com/pangeo-forge/roadmap) is an open source tool for data Extraction, Transformation, and Loading (ETL). The goal of Pangeo Forge is to make it easy to extract data from traditional data repositories and deposit in cloud object storage in analysis-ready, cloud-optimized (ARCO) format.\n",
    "\n",
    "<img width=\"70%\" src=\"https://github.com/pangeo-forge/roadmap/raw/master/pangeo-forge-diagram.png\">\n"
   ]
  },
  {
   "cell_type": "markdown",
   "id": "b3719c41",
   "metadata": {
    "slideshow": {
     "slide_type": "slide"
    }
   },
   "source": [
    "# Conclusions\n",
    "\n",
    "- The data-intensive nature of the SWOT mission is a perfect fit for the Pangeo mission\n",
    "- We have made major strides in upgrading our infrastructure over the past few years\n",
    "- Very fun an satisfying to work on tools / infrastructure, but academia doesn't provide much incentive\n",
    "- Need to work with funding agencies around cloud infrastructure\n",
    "\n",
    "<h3 style=\"align: center;\"><img style=\"display: inline;\" width=\"200px\" src=\"https://raw.githubusercontent.com/pangeo-data/branding/master/logo/v_small_pangeo_logo.png\"> ❤️ SWOT</h1>\n"
   ]
  },
  {
   "cell_type": "code",
   "execution_count": null,
   "id": "b1a2eda9",
   "metadata": {},
   "outputs": [],
   "source": []
  }
 ],
 "metadata": {
  "celltoolbar": "Slideshow",
  "kernelspec": {
   "display_name": "Python 3",
   "language": "python",
   "name": "python3"
  },
  "language_info": {
   "codemirror_mode": {
    "name": "ipython",
    "version": 3
   },
   "file_extension": ".py",
   "mimetype": "text/x-python",
   "name": "python",
   "nbconvert_exporter": "python",
   "pygments_lexer": "ipython3",
   "version": "3.8.8"
  },
  "rise": {
   "theme": "simple"
  }
 },
 "nbformat": 4,
 "nbformat_minor": 5
}
